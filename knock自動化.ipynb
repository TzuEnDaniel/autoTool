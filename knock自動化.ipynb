{
 "cells": [
  {
   "cell_type": "code",
   "execution_count": 14,
   "metadata": {},
   "outputs": [],
   "source": [
    "import ctypes \n",
    "ctypes.windll.shell32.SetCurrentProcessExplicitAppUserModelID(\"myappid\")\n",
    "import webbrowser\n",
    "import winsound\n",
    "import os\n",
    "from selenium import webdriver\n",
    "from selenium.webdriver.support.ui import WebDriverWait\n",
    "import time\n",
    "from selenium.common.exceptions import NoSuchElementException\n",
    "from selenium import webdriver\n",
    "from selenium.webdriver.common.keys import Keys\n",
    "import time\n",
    "from tkinter import *\n",
    "from tkinter import messagebox\n",
    "from selenium import webdriver\n",
    "from selenium.webdriver.common.keys import Keys\n",
    "import time"
   ]
  },
  {
   "cell_type": "code",
   "execution_count": 15,
   "metadata": {
    "scrolled": true
   },
   "outputs": [
    {
     "ename": "NoSuchElementException",
     "evalue": "Message: no such element: Unable to locate element: {\"method\":\"css selector\",\"selector\":\".command-name\"}\n  (Session info: chrome=90.0.4430.212)\n",
     "output_type": "error",
     "traceback": [
      "\u001b[1;31m---------------------------------------------------------------------------\u001b[0m",
      "\u001b[1;31mNoSuchElementException\u001b[0m                    Traceback (most recent call last)",
      "\u001b[1;32m<ipython-input-15-3ad74fa055b9>\u001b[0m in \u001b[0;36m<module>\u001b[1;34m\u001b[0m\n\u001b[0;32m      6\u001b[0m \u001b[0mdriver\u001b[0m\u001b[1;33m.\u001b[0m\u001b[0mfind_element_by_class_name\u001b[0m\u001b[1;33m(\u001b[0m\u001b[1;34m\"tool-button.normal-tool-button.show-command\"\u001b[0m\u001b[1;33m)\u001b[0m\u001b[1;33m.\u001b[0m\u001b[0mclick\u001b[0m\u001b[1;33m(\u001b[0m\u001b[1;33m)\u001b[0m\u001b[1;33m\u001b[0m\u001b[1;33m\u001b[0m\u001b[0m\n\u001b[0;32m      7\u001b[0m \u001b[0mtime\u001b[0m\u001b[1;33m.\u001b[0m\u001b[0msleep\u001b[0m\u001b[1;33m(\u001b[0m\u001b[1;36m1\u001b[0m\u001b[1;33m)\u001b[0m\u001b[1;33m\u001b[0m\u001b[1;33m\u001b[0m\u001b[0m\n\u001b[1;32m----> 8\u001b[1;33m \u001b[0mdriver\u001b[0m\u001b[1;33m.\u001b[0m\u001b[0mfind_element_by_class_name\u001b[0m\u001b[1;33m(\u001b[0m\u001b[1;34m\"command-name\"\u001b[0m\u001b[1;33m)\u001b[0m\u001b[1;33m.\u001b[0m\u001b[0mclick\u001b[0m\u001b[1;33m(\u001b[0m\u001b[1;33m)\u001b[0m\u001b[1;33m\u001b[0m\u001b[1;33m\u001b[0m\u001b[0m\n\u001b[0m\u001b[0;32m      9\u001b[0m \u001b[0mtime\u001b[0m\u001b[1;33m.\u001b[0m\u001b[0msleep\u001b[0m\u001b[1;33m(\u001b[0m\u001b[1;36m1\u001b[0m\u001b[1;33m)\u001b[0m\u001b[1;33m\u001b[0m\u001b[1;33m\u001b[0m\u001b[0m\n\u001b[0;32m     10\u001b[0m \u001b[0mdriver\u001b[0m\u001b[1;33m.\u001b[0m\u001b[0mfind_element_by_css_selector\u001b[0m\u001b[1;33m(\u001b[0m\u001b[1;34m\"input[type='text']\"\u001b[0m\u001b[1;33m)\u001b[0m\u001b[1;33m.\u001b[0m\u001b[0msend_keys\u001b[0m\u001b[1;33m(\u001b[0m\u001b[1;34m'嗨尋找腹肌控的女生'\u001b[0m\u001b[1;33m)\u001b[0m\u001b[1;33m\u001b[0m\u001b[1;33m\u001b[0m\u001b[0m\n",
      "\u001b[1;32m~\\anaconda3\\lib\\site-packages\\selenium\\webdriver\\remote\\webdriver.py\u001b[0m in \u001b[0;36mfind_element_by_class_name\u001b[1;34m(self, name)\u001b[0m\n\u001b[0;32m    562\u001b[0m             \u001b[0melement\u001b[0m \u001b[1;33m=\u001b[0m \u001b[0mdriver\u001b[0m\u001b[1;33m.\u001b[0m\u001b[0mfind_element_by_class_name\u001b[0m\u001b[1;33m(\u001b[0m\u001b[1;34m'foo'\u001b[0m\u001b[1;33m)\u001b[0m\u001b[1;33m\u001b[0m\u001b[1;33m\u001b[0m\u001b[0m\n\u001b[0;32m    563\u001b[0m         \"\"\"\n\u001b[1;32m--> 564\u001b[1;33m         \u001b[1;32mreturn\u001b[0m \u001b[0mself\u001b[0m\u001b[1;33m.\u001b[0m\u001b[0mfind_element\u001b[0m\u001b[1;33m(\u001b[0m\u001b[0mby\u001b[0m\u001b[1;33m=\u001b[0m\u001b[0mBy\u001b[0m\u001b[1;33m.\u001b[0m\u001b[0mCLASS_NAME\u001b[0m\u001b[1;33m,\u001b[0m \u001b[0mvalue\u001b[0m\u001b[1;33m=\u001b[0m\u001b[0mname\u001b[0m\u001b[1;33m)\u001b[0m\u001b[1;33m\u001b[0m\u001b[1;33m\u001b[0m\u001b[0m\n\u001b[0m\u001b[0;32m    565\u001b[0m \u001b[1;33m\u001b[0m\u001b[0m\n\u001b[0;32m    566\u001b[0m     \u001b[1;32mdef\u001b[0m \u001b[0mfind_elements_by_class_name\u001b[0m\u001b[1;33m(\u001b[0m\u001b[0mself\u001b[0m\u001b[1;33m,\u001b[0m \u001b[0mname\u001b[0m\u001b[1;33m)\u001b[0m\u001b[1;33m:\u001b[0m\u001b[1;33m\u001b[0m\u001b[1;33m\u001b[0m\u001b[0m\n",
      "\u001b[1;32m~\\anaconda3\\lib\\site-packages\\selenium\\webdriver\\remote\\webdriver.py\u001b[0m in \u001b[0;36mfind_element\u001b[1;34m(self, by, value)\u001b[0m\n\u001b[0;32m    974\u001b[0m                 \u001b[0mby\u001b[0m \u001b[1;33m=\u001b[0m \u001b[0mBy\u001b[0m\u001b[1;33m.\u001b[0m\u001b[0mCSS_SELECTOR\u001b[0m\u001b[1;33m\u001b[0m\u001b[1;33m\u001b[0m\u001b[0m\n\u001b[0;32m    975\u001b[0m                 \u001b[0mvalue\u001b[0m \u001b[1;33m=\u001b[0m \u001b[1;34m'[name=\"%s\"]'\u001b[0m \u001b[1;33m%\u001b[0m \u001b[0mvalue\u001b[0m\u001b[1;33m\u001b[0m\u001b[1;33m\u001b[0m\u001b[0m\n\u001b[1;32m--> 976\u001b[1;33m         return self.execute(Command.FIND_ELEMENT, {\n\u001b[0m\u001b[0;32m    977\u001b[0m             \u001b[1;34m'using'\u001b[0m\u001b[1;33m:\u001b[0m \u001b[0mby\u001b[0m\u001b[1;33m,\u001b[0m\u001b[1;33m\u001b[0m\u001b[1;33m\u001b[0m\u001b[0m\n\u001b[0;32m    978\u001b[0m             'value': value})['value']\n",
      "\u001b[1;32m~\\anaconda3\\lib\\site-packages\\selenium\\webdriver\\remote\\webdriver.py\u001b[0m in \u001b[0;36mexecute\u001b[1;34m(self, driver_command, params)\u001b[0m\n\u001b[0;32m    319\u001b[0m         \u001b[0mresponse\u001b[0m \u001b[1;33m=\u001b[0m \u001b[0mself\u001b[0m\u001b[1;33m.\u001b[0m\u001b[0mcommand_executor\u001b[0m\u001b[1;33m.\u001b[0m\u001b[0mexecute\u001b[0m\u001b[1;33m(\u001b[0m\u001b[0mdriver_command\u001b[0m\u001b[1;33m,\u001b[0m \u001b[0mparams\u001b[0m\u001b[1;33m)\u001b[0m\u001b[1;33m\u001b[0m\u001b[1;33m\u001b[0m\u001b[0m\n\u001b[0;32m    320\u001b[0m         \u001b[1;32mif\u001b[0m \u001b[0mresponse\u001b[0m\u001b[1;33m:\u001b[0m\u001b[1;33m\u001b[0m\u001b[1;33m\u001b[0m\u001b[0m\n\u001b[1;32m--> 321\u001b[1;33m             \u001b[0mself\u001b[0m\u001b[1;33m.\u001b[0m\u001b[0merror_handler\u001b[0m\u001b[1;33m.\u001b[0m\u001b[0mcheck_response\u001b[0m\u001b[1;33m(\u001b[0m\u001b[0mresponse\u001b[0m\u001b[1;33m)\u001b[0m\u001b[1;33m\u001b[0m\u001b[1;33m\u001b[0m\u001b[0m\n\u001b[0m\u001b[0;32m    322\u001b[0m             response['value'] = self._unwrap_value(\n\u001b[0;32m    323\u001b[0m                 response.get('value', None))\n",
      "\u001b[1;32m~\\anaconda3\\lib\\site-packages\\selenium\\webdriver\\remote\\errorhandler.py\u001b[0m in \u001b[0;36mcheck_response\u001b[1;34m(self, response)\u001b[0m\n\u001b[0;32m    240\u001b[0m                 \u001b[0malert_text\u001b[0m \u001b[1;33m=\u001b[0m \u001b[0mvalue\u001b[0m\u001b[1;33m[\u001b[0m\u001b[1;34m'alert'\u001b[0m\u001b[1;33m]\u001b[0m\u001b[1;33m.\u001b[0m\u001b[0mget\u001b[0m\u001b[1;33m(\u001b[0m\u001b[1;34m'text'\u001b[0m\u001b[1;33m)\u001b[0m\u001b[1;33m\u001b[0m\u001b[1;33m\u001b[0m\u001b[0m\n\u001b[0;32m    241\u001b[0m             \u001b[1;32mraise\u001b[0m \u001b[0mexception_class\u001b[0m\u001b[1;33m(\u001b[0m\u001b[0mmessage\u001b[0m\u001b[1;33m,\u001b[0m \u001b[0mscreen\u001b[0m\u001b[1;33m,\u001b[0m \u001b[0mstacktrace\u001b[0m\u001b[1;33m,\u001b[0m \u001b[0malert_text\u001b[0m\u001b[1;33m)\u001b[0m\u001b[1;33m\u001b[0m\u001b[1;33m\u001b[0m\u001b[0m\n\u001b[1;32m--> 242\u001b[1;33m         \u001b[1;32mraise\u001b[0m \u001b[0mexception_class\u001b[0m\u001b[1;33m(\u001b[0m\u001b[0mmessage\u001b[0m\u001b[1;33m,\u001b[0m \u001b[0mscreen\u001b[0m\u001b[1;33m,\u001b[0m \u001b[0mstacktrace\u001b[0m\u001b[1;33m)\u001b[0m\u001b[1;33m\u001b[0m\u001b[1;33m\u001b[0m\u001b[0m\n\u001b[0m\u001b[0;32m    243\u001b[0m \u001b[1;33m\u001b[0m\u001b[0m\n\u001b[0;32m    244\u001b[0m     \u001b[1;32mdef\u001b[0m \u001b[0m_value_or_default\u001b[0m\u001b[1;33m(\u001b[0m\u001b[0mself\u001b[0m\u001b[1;33m,\u001b[0m \u001b[0mobj\u001b[0m\u001b[1;33m,\u001b[0m \u001b[0mkey\u001b[0m\u001b[1;33m,\u001b[0m \u001b[0mdefault\u001b[0m\u001b[1;33m)\u001b[0m\u001b[1;33m:\u001b[0m\u001b[1;33m\u001b[0m\u001b[1;33m\u001b[0m\u001b[0m\n",
      "\u001b[1;31mNoSuchElementException\u001b[0m: Message: no such element: Unable to locate element: {\"method\":\"css selector\",\"selector\":\".command-name\"}\n  (Session info: chrome=90.0.4430.212)\n"
     ]
    }
   ],
   "source": [
    "driver = webdriver.Chrome('C:\\\\Users\\\\ASUS\\\\Desktop\\\\.ipynb_checkpoints\\\\chromedriver.exe')\n",
    "driver.get('https://knock.tw/')\n",
    "driver.implicitly_wait(5)\n",
    "driver.find_element_by_css_selector(\"button[class='start']\").click()\n",
    "driver.implicitly_wait(5)\n",
    "driver.find_element_by_class_name(\"tool-button.normal-tool-button.show-command\").click()\n",
    "time.sleep(1)\n",
    "driver.find_element_by_class_name(\"command-name\").click()\n",
    "time.sleep(1)\n",
    "driver.find_element_by_css_selector(\"input[type='text']\").send_keys('嗨尋找腹肌控的女生')\n",
    "time.sleep(1)\n",
    "driver.find_element_by_css_selector(\"button[class='confirm']\").click()"
   ]
  },
  {
   "cell_type": "code",
   "execution_count": 16,
   "metadata": {},
   "outputs": [],
   "source": [
    "i=1"
   ]
  },
  {
   "cell_type": "code",
   "execution_count": 17,
   "metadata": {
    "tags": [
     "outputPrepend"
    ]
   },
   "outputs": [
    {
     "name": "stdout",
     "output_type": "stream",
     "text": [
      "第 1 個15秒內離開\n",
      "第 2 個15秒內沒離開\n",
      "第 2 個15秒內沒人回話系統離開\n",
      "第 3 個15秒內沒離開\n",
      "第 3 個15秒內沒人回話系統離開\n",
      "第 4 個標籤 男\n",
      "第 5 個15秒內離開\n",
      "第 6 個15秒內離開\n",
      "第 7 個標籤 熟男找慾女\n",
      "第 8 個15秒內離開\n",
      "第 9 個15秒內離開\n",
      "第 10 個標籤 找30以上輕熟女\n",
      "第 11 個15秒內離開\n",
      "第 12 個標籤 男生 不約 不聊色\n",
      "第 13 個標籤 找30以上輕熟女\n",
      "第 14 個標籤 找30以上輕熟女\n",
      "第 15 個標籤 熟男找慾女\n",
      "第 16 個標籤 新北男子\n",
      "第 17 個標籤 北男\n",
      "第 18 個15秒內離開\n",
      "第 19 個標籤 熟男找慾女\n",
      "第 20 個標籤 找30以上輕熟女\n",
      "第 21 個15秒內離開\n",
      "第 22 個15秒內離開\n",
      "第 23 個15秒內離開\n",
      "第 24 個15秒內沒離開\n",
      "第 24 個15秒內沒人回話系統離開\n",
      "第 25 個15秒內離開\n",
      "第 26 個標籤 特長就是特長\n",
      "第 27 個標籤 熟男找慾女\n",
      "第 28 個15秒內離開\n",
      "第 29 個15秒內離開\n",
      "第 30 個15秒內離開\n",
      "第 31 個15秒內沒離開\n",
      "第 31 15秒內回話 我叫小莉，不會攻擊村莊，喜歡喝蘿蔔汁，手機首播0７~４49867８密碼1314，免費和我線上互動6０分鐘\n",
      "error\n",
      "第 32 個標籤 新北男子\n",
      "第 33 個15秒內離開\n",
      "第 34 個標籤 找30以上輕熟女\n",
      "第 35 個15秒內離開\n",
      "第 36 個標籤 男\n",
      "第 37 個15秒內離開\n",
      "第 38 個15秒內離開\n",
      "第 39 個標籤 想被女孩誘惑⋯😳\n",
      "第 40 個15秒內離開\n",
      "第 41 個標籤 想被女孩誘惑⋯😳\n",
      "第 42 個15秒內離開\n",
      "第 43 個15秒內離開\n",
      "第 44 個15秒內離開\n",
      "第 45 個15秒內離開\n",
      "第 46 個標籤 特長就是特長\n",
      "第 47 個15秒內離開\n",
      "第 48 個15秒內離開\n",
      "第 49 個15秒內離開\n",
      "第 50 個15秒內離開\n",
      "第 51 個15秒內沒離開\n",
      "第 51 個15秒內沒人回話系統離開\n",
      "第 52 個標籤 男\n",
      "第 53 個15秒內離開\n",
      "第 54 個15秒內離開\n",
      "第 55 個標籤 熟男找慾女\n",
      "第 56 個15秒內沒離開\n",
      "第 56 個15秒內沒人回話系統離開\n",
      "第 57 個15秒內離開\n",
      "第 58 個標籤 居家辦公\n",
      "第 59 個標籤 找30以上輕熟女\n",
      "第 60 個15秒內沒離開\n",
      "第 60 個15秒內沒人回話系統離開\n",
      "第 61 個標籤 男\n",
      "第 62 個標籤 新北男\n",
      "第 63 個15秒內沒離開\n",
      "第 63 個15秒內沒人回話系統離開\n",
      "第 64 個15秒內離開\n",
      "第 65 個15秒內離開\n",
      "第 66 個標籤 想被女孩誘惑⋯😳\n",
      "第 67 個15秒內沒離開\n",
      "第 67 個15秒內沒人回話系統離開\n",
      "第 68 個15秒內離開\n",
      "第 69 個標籤 熟男找慾女\n",
      "第 70 個標籤 特長就是特長\n",
      "第 71 個15秒內離開\n",
      "第 72 個15秒內離開\n",
      "第 73 個標籤 新北熟男找色女孩\n",
      "第 74 個15秒內沒離開\n",
      "第 74 個15秒內沒人回話系統離開\n",
      "第 75 個15秒內沒離開\n",
      "第 75 個15秒內沒人回話系統離開\n",
      "第 76 個15秒內離開\n",
      "第 77 個15秒內沒離開\n",
      "第 77 15秒內回話 Gay\n",
      "第 78 個標籤 男人31\n",
      "第 79 個15秒內離開\n",
      "第 80 個標籤 想被女孩誘惑⋯😳\n",
      "第 81 個15秒內離開\n",
      "第 82 個15秒內沒離開\n",
      "第 82 個15秒內沒人回話系統離開\n",
      "第 83 個15秒內沒離開\n",
      "第 83 個15秒內沒人回話系統離開\n",
      "第 84 個15秒內離開\n",
      "第 85 個15秒內沒離開\n",
      "第 85 個15秒內沒人回話系統離開\n",
      "第 86 個標籤 想被女孩誘惑⋯😳\n",
      "第 87 個標籤 想被女孩誘惑⋯😳\n",
      "第 88 個標籤 想被女孩誘惑⋯😳\n",
      "第 89 個標籤 想被女孩誘惑⋯😳\n",
      "第 90 個標籤 想被女孩誘惑⋯😳\n",
      "第 91 個15秒內沒離開\n",
      "第 91 個15秒內沒人回話系統離開\n",
      "第 92 個15秒內離開\n",
      "第 93 個標籤 男人31\n",
      "第 94 個15秒內沒離開\n",
      "第 94 個15秒內沒人回話系統離開\n",
      "第 95 個15秒內沒離開\n",
      "第 95 15秒內回話 嗨\n"
     ]
    }
   ],
   "source": [
    "#目前完整版\n",
    "def leave_button():\n",
    "    global click_btn\n",
    "    click_btn=1\n",
    "    driver.find_element_by_css_selector(\"div[class='bottom-tool-bar']>i[class='tool-button leave-chat']\").click()\n",
    "    try:\n",
    "        driver.find_element_by_css_selector(\"button[class='modal-default-button confirm']\").click()\n",
    "    except Exception as e:\n",
    "        \n",
    "        print('error')\n",
    "    driver.find_element_by_css_selector(\"button[class='start']\").click()\n",
    "    top.destroy()\n",
    "    \n",
    "def command_restart():\n",
    "    global restart\n",
    "    restart=1\n",
    "    driver.refresh()\n",
    "    new=driver.find_element_by_css_selector(\"div[class='home']>button[class='start']\")\n",
    "    try:\n",
    "        driver.implicitly_wait(5)\n",
    "        new.click()\n",
    "    except:\n",
    "        try:\n",
    "            driver.find_element_by_css_selector(\"button[class='start.hover']\").click()\n",
    "        except:\n",
    "            try:\n",
    "                driver.implicitly_wait(5)\n",
    "                driver.find_element_by_css_selector(\"div[class='bottom-tool-bar']>i[class='tool-button leave-chat']\").click()\n",
    "                driver.implicitly_wait(5)\n",
    "                driver.find_element_by_css_selector(\"button[class='modal-default-button confirm']\").click()\n",
    "                driver.implicitly_wait(5)\n",
    "                driver.find_element_by_class_name(\"start\").click()\n",
    "            except:\n",
    "                driver.find_element_by_class_name(\"start\").click()\n",
    "    error.destroy()\n",
    "\n",
    "def close_window_error():\n",
    "    global restart\n",
    "    restart=0\n",
    "    error.destroy()\n",
    "def close_window_top():\n",
    "    global click_btn\n",
    "    click_btn=0\n",
    "    top.destroy()\n",
    "\n",
    "while i!=0:\n",
    "    \n",
    "    \n",
    "    try:\n",
    "                driver.implicitly_wait(3)\n",
    "                driver.find_element_by_css_selector(\"div[class='message user other']>div>div[class='message-content small']\")\n",
    "                label=driver.find_element_by_css_selector(\"div[class='message user other']>div>div[class='message-content small']\").text\n",
    "    except Exception as e:\n",
    "                    try:\n",
    "                        driver.implicitly_wait(10)\n",
    "                        driver.find_element_by_css_selector(\"div[class='message alert']>button[class='message-content']\")\n",
    "                        \n",
    "                    except NoSuchElementException as e:\n",
    "                        print(\"第\",i,\"個15秒內沒離開\")\n",
    "                        try:\n",
    "                            driver.implicitly_wait(1)\n",
    "                            driver.find_element_by_css_selector(\"div[class='message user other']>div>div[class='message-content']\")\n",
    "                            stranger_text=driver.find_element_by_css_selector(\"div[class='message user other']>div>div[class='message-content']\").text\n",
    "                            boy=\"男\"\n",
    "                            ad='叔'\n",
    "                            height='找女'\n",
    "                            ans= boy in stranger_text\n",
    "                            ans_ad=ad in stranger_text\n",
    "                            ans_height = height in stranger_text\n",
    "                        except NoSuchElementException as e:\n",
    "                            try:\n",
    "                                print(\"第\",i,\"個15秒內沒人回話系統離開\")\n",
    "                                driver.implicitly_wait(5)   \n",
    "                                driver.find_element_by_css_selector(\"div[class='bottom-tool-bar']>i[class='tool-button leave-chat']\").click()\n",
    "                                driver.implicitly_wait(5)\n",
    "                                driver.find_element_by_css_selector(\"button[class='modal-default-button confirm']\").click()\n",
    "                                driver.implicitly_wait(5)\n",
    "                                driver.find_element_by_class_name(\"start\").click()\n",
    "                                i+=1\n",
    "                            \n",
    "                            except Exception as e: \n",
    "                                try:\n",
    "                                    driver.refresh()\n",
    "                                    driver.implicitly_wait(10)\n",
    "                                    driver.find_element_by_class_name(\"start\").click()\n",
    "                                    i+=1\n",
    "                                except Exception as e:\n",
    "                                    try:\n",
    "                                            driver.find_element_by_css_selector(\"div[class='bottom-tool-bar']>i[class='tool-button leave-chat']\").click()\n",
    "                                            driver.implicitly_wait(3)\n",
    "                                            driver.find_element_by_class_name(\"start\").click()\n",
    "                                            i+=1\n",
    "                                    except Exception as e:\n",
    "                                                          \n",
    "                                            try:\n",
    "                                                driver.find_element_by_css_selector(\"div[class='bottom-tool-bar']>i[class='tool-button leave-chat']\").click()\n",
    "                                                driver.implicitly_wait(3)\n",
    "                                                driver.find_element_by_class_name(\"start\").click()\n",
    "                                                i+=1\n",
    "                                            except Exception as e: \n",
    "                                                    try:\n",
    "                                                        driver.find_element_by_css_selector(\"button[class='modal-default-button confirm']\").click()\n",
    "                                                        driver.implicitly_wait(3)\n",
    "                                                        driver.find_element_by_class_name(\"start\").click()\n",
    "                                                        i+=1  \n",
    "                                                    except Exception as e:\n",
    "\n",
    "                                                        try:\n",
    "                                                            driver.refresh()\n",
    "                                                            driver.find_element_by_css_selector(\"div[class='message alert']>button[class='message-content']\").click()\n",
    "                                                            i+=1\n",
    "                                                        except Exception as e:    \n",
    "                                                            error = Tk()\n",
    "                                                            error.title(\"出錯啦(第1階段)\")\n",
    "                                                            error.geometry(\"400x200+450+300\")\n",
    "                                                            error_scale = Canvas(height=150, width=300)\n",
    "                                                            my_label = Label(error, text = 'Knock壞掉啦!',font=12)\n",
    "                                                            btn_leave = Button(text = \"關閉視窗\",command = close_window_error,anchor='e').place(x=140,y=100)\n",
    "                                                            btn_restart = Button(text = \"重新開始\",command = command_restart,anchor='e').place(x=210,y=100)\n",
    "                                                            my_label.pack()\n",
    "                                                            time.sleep(1)\n",
    "                                                            error.iconbitmap('C:\\\\Users\\\\ASUS\\\\Desktop\\\\doc\\\\autoproject\\\\icon\\\\knock.ico')\n",
    "                                                            winsound.PlaySound('C:\\\\Users\\\\ASUS\\\\Desktop\\\\.ipynb_checkpoints\\\\alart.wav',winsound.SND_ASYNC)\n",
    "                                                            #error.bell()\n",
    "                                                            error.mainloop()\n",
    "                                                            if restart==1:\n",
    "                                                                    i+=1\n",
    "                                                            elif restart==0:\n",
    "                                                                    break \n",
    "\n",
    "                        else:\n",
    "                            try:\n",
    "                                if ans==True:\n",
    "                                    driver.implicitly_wait(5)   \n",
    "                                    driver.find_element_by_css_selector(\"div[class='bottom-tool-bar']>i[class='tool-button leave-chat']\").click()\n",
    "                                    driver.implicitly_wait(5)\n",
    "                                    driver.find_element_by_css_selector(\"button[class='modal-default-button confirm']\").click()\n",
    "                                    driver.implicitly_wait(5)\n",
    "                                    driver.find_element_by_class_name(\"start\").click()\n",
    "                                    i+=1\n",
    "                                    print(\"第\",i,\"個男\",stranger_text)\n",
    "                                elif ans_ad==True:\n",
    "                                    driver.implicitly_wait(5)   \n",
    "                                    driver.find_element_by_css_selector(\"div[class='bottom-tool-bar']>i[class='tool-button leave-chat']\").click()\n",
    "                                    driver.implicitly_wait(5)\n",
    "                                    driver.find_element_by_css_selector(\"button[class='modal-default-button confirm']\").click()\n",
    "                                    driver.implicitly_wait(5)\n",
    "                                    driver.find_element_by_class_name(\"start\").click()\n",
    "                                    i+=1\n",
    "                                elif ans_height==True:\n",
    "                                    driver.implicitly_wait(5)   \n",
    "                                    driver.find_element_by_css_selector(\"div[class='bottom-tool-bar']>i[class='tool-button leave-chat']\").click()\n",
    "                                    driver.implicitly_wait(5)\n",
    "                                    driver.find_element_by_css_selector(\"button[class='modal-default-button confirm']\").click()\n",
    "                                    driver.implicitly_wait(5)\n",
    "                                    driver.find_element_by_class_name(\"start\").click()\n",
    "                                    i+=1\n",
    "                                else:\n",
    "                                    print(\"第\",i,\"15秒內回話\",stranger_text)\n",
    "                                    top = Tk()\n",
    "                                    top.title(\"Knock有人留下\")\n",
    "                                    top.geometry(\"400x200+450+300\")\n",
    "                                    top_scale = Canvas(height=150, width=300)\n",
    "                                    my_label = Label(top, text =('有人留言',stranger_text),font=12)\n",
    "                                    leave_btn=Button(text='下一位',command=leave_button).place(x=210,y=100)\n",
    "                                    button = Button(text = \"關閉視窗\",command = close_window_top,anchor='e').place(x=140,y=100)\n",
    "                                    my_label.pack()\n",
    "                                    #time.sleep(1)\n",
    "                                    winsound.PlaySound('C:\\\\Users\\\\ASUS\\\\Desktop\\\\.ipynb_checkpoints\\\\alart.wav',winsound.SND_ASYNC)\n",
    "                                    #top.bell()\n",
    "                                    top.iconbitmap('C:\\\\Users\\\\ASUS\\\\Desktop\\\\doc\\\\autoproject\\\\icon\\\\knock.ico')\n",
    "                                    top.mainloop()\n",
    "                                    if click_btn==1:\n",
    "                                        i+=1\n",
    "                                    elif click_btn==0:\n",
    "                                        break              \n",
    "                                    \n",
    "                            except Exception as e: \n",
    "                                error = Tk()\n",
    "                                error.title(\"出錯啦(第2階段)\")\n",
    "                                error.geometry(\"400x200+450+300\")\n",
    "                                error_scale = Canvas(height=150, width=300)\n",
    "                                my_label = Label(error, text = 'Knock壞掉啦!',font=12)\n",
    "                                btn_leave = Button(text = \"關閉視窗\",command = close_window_error,anchor='e').place(x=140,y=100)\n",
    "                                btn_restart = Button(text = \"重新開始\",command = command_restart,anchor='e').place(x=210,y=100)\n",
    "                                my_label.pack()\n",
    "                                #time.sleep(1)\n",
    "                                winsound.PlaySound('C:\\\\Users\\\\ASUS\\\\Desktop\\\\.ipynb_checkpoints\\\\alart.wav',winsound.SND_ASYNC)\n",
    "                                #error.bell()\n",
    "                                error.iconbitmap('C:\\\\Users\\\\ASUS\\\\Desktop\\\\doc\\\\autoproject\\\\icon\\\\knock.ico')\n",
    "                                error.mainloop()\n",
    "                                if restart==1:\n",
    "                                        i+=1\n",
    "                                elif restart==0:\n",
    "                                        break  \n",
    "                                \n",
    "                    else:\n",
    "                        try:\n",
    "                            print(\"第\",i,\"個15秒內離開\")\n",
    "                            driver.implicitly_wait(3)\n",
    "                            label=driver.find_element_by_css_selector(\"div[class='message alert']>button[class='message-content']\")\n",
    "                            driver.execute_script(\"arguments[0].scrollIntoView();\", label)\n",
    "                            driver.implicitly_wait(3)\n",
    "                            driver.find_element_by_css_selector(\"div[class='message alert']>button[class='message-content']\").click()\n",
    "                            driver.implicitly_wait(3)\n",
    "                            i+=1\n",
    "                        except Exception as e: \n",
    "                            try:\n",
    "                                    driver.refresh()\n",
    "                                    driver.implicitly_wait(10)\n",
    "                                    driver.find_element_by_class_name(\"start\").click()\n",
    "                                    i+=1\n",
    "                            except Exception as e:        \n",
    "                                    try:\n",
    "                                        driver.find_element_by_css_selector(\"div[class='bottom-tool-bar']>i[class='tool-button leave-chat']\").click()\n",
    "                                        driver.implicitly_wait(3)\n",
    "                                        driver.find_element_by_class_name(\"start\").click()\n",
    "                                        i+=1\n",
    "                                    except Exception as e: \n",
    "                                        try:\n",
    "                                            driver.find_element_by_css_selector(\"button[class='modal-default-button confirm']\").click()\n",
    "                                            driver.implicitly_wait(3)\n",
    "                                            driver.find_element_by_class_name(\"start\").click()\n",
    "                                            i+=1\n",
    "                                        except Exception as e:     \n",
    "\n",
    "                                            error = Tk()\n",
    "                                            error.title(\"出錯啦(第3階段)\")\n",
    "                                            error.geometry(\"400x200+450+300\")\n",
    "                                            error_scale = Canvas(height=150, width=300)\n",
    "                                            my_label = Label(error, text = 'Knock壞掉啦!',font=12)\n",
    "                                            btn_leave = Button(text = \"關閉視窗\",command = close_window_error,anchor='e').place(x=140,y=100)\n",
    "                                            btn_restart = Button(text = \"重新開始\",command = command_restart,anchor='e').place(x=210,y=100)\n",
    "                                            my_label.pack()\n",
    "                                            #time.sleep(1)\n",
    "                                            winsound.PlaySound('C:\\\\Users\\\\ASUS\\\\Desktop\\\\.ipynb_checkpoints\\\\alart.wav',winsound.SND_ASYNC)\n",
    "                                            #error.bell()\n",
    "                                            error.iconbitmap('C:\\\\Users\\\\ASUS\\\\Desktop\\\\doc\\\\autoproject\\\\icon\\\\knock.ico')\n",
    "                                            error.mainloop()\n",
    "                                            if restart==1:\n",
    "                                                    i+=1\n",
    "                                            elif restart==0:\n",
    "                                                break\n",
    "                    \n",
    "                        \n",
    "    else:\n",
    "        try:\n",
    "                    print(\"第\",i,\"個標籤\",label)\n",
    "                    driver.implicitly_wait(2)   \n",
    "                    driver.find_element_by_css_selector(\"div[class='bottom-tool-bar']>i[class='tool-button leave-chat']\").click()\n",
    "                    driver.implicitly_wait(3)\n",
    "                    driver.find_element_by_css_selector(\"button[class='modal-default-button confirm']\").click()\n",
    "                    driver.implicitly_wait(3)\n",
    "                    driver.find_element_by_class_name(\"start\").click()\n",
    "                    i+=1\n",
    "        except Exception as e: \n",
    "            try:\n",
    "                \n",
    "                                    driver.refresh()\n",
    "                                    driver.implicitly_wait(10)\n",
    "                                    driver.find_element_by_class_name(\"start\").click()\n",
    "                                    i+=1\n",
    "            \n",
    "                \n",
    "            except Exception as e: \n",
    "                try:\n",
    "                     driver.find_element_by_css_selector(\"div[class='bottom-tool-bar']>i[class='tool-button leave-chat']\").click()\n",
    "                     driver.implicitly_wait(3)\n",
    "                     driver.find_element_by_class_name(\"start\").click()\n",
    "                     i+=1\n",
    "                except Exception as e: \n",
    "                    try:\n",
    "                         driver.find_element_by_css_selector(\"button[class='modal-default-button confirm']\").click()\n",
    "                         driver.implicitly_wait(3)\n",
    "                         driver.find_element_by_class_name(\"start\").click()\n",
    "                         i+=1\n",
    "                    except Exception as e:  \n",
    "                        try:\n",
    "                            driver.find_element_by_css_selector(\"button[class='message-content\").click()\n",
    "                            i+=1\n",
    "                        except:\n",
    "                            driver.refresh()\n",
    "                            i+=1\n",
    "                               \n",
    "\n",
    "  \n",
    "                \n",
    "        \n",
    "    \n",
    "       \n",
    "    time.sleep(1)  "
   ]
  },
  {
   "cell_type": "code",
   "execution_count": 5,
   "metadata": {
    "scrolled": true
   },
   "outputs": [],
   "source": [
    "driver.find_element_by_css_selector(\"div[class='bottom-tool-bar']>i[class='tool-button leave-chat']\").click()\n",
    "driver.implicitly_wait(5)\n",
    "driver.find_element_by_css_selector(\"button[class='modal-default-button confirm']\").click()\n",
    "driver.implicitly_wait(5)\n",
    "driver.find_element_by_class_name(\"start\").click()"
   ]
  },
  {
   "cell_type": "code",
   "execution_count": 7,
   "metadata": {},
   "outputs": [],
   "source": [
    "driver.find_element_by_css_selector(\"div[class='message alert']>button[class='message-content']\").click()"
   ]
  },
  {
   "cell_type": "code",
   "execution_count": 18,
   "metadata": {},
   "outputs": [],
   "source": [
    "driver.find_element_by_css_selector(\"input[type='text']\").send_keys('嗨尋找腹肌控的女生')"
   ]
  },
  {
   "cell_type": "code",
   "execution_count": 13,
   "metadata": {},
   "outputs": [],
   "source": [
    "driver.find_element_by_css_selector(\"button[class='confirm']\").click()"
   ]
  },
  {
   "cell_type": "code",
   "execution_count": 6,
   "metadata": {},
   "outputs": [],
   "source": [
    "from tkinter import *\n",
    "from tkinter import messagebox"
   ]
  },
  {
   "cell_type": "code",
   "execution_count": 108,
   "metadata": {},
   "outputs": [],
   "source": [
    "#app > div > div.content > div:nth-child(3) > div > div > div > span\n",
    "#app > div > div.content > div:nth-child(3) > div > div > div\n",
    "driver.find_element_by_css_selector(\"div[class='message alert']>button[class='message-content']\").click()"
   ]
  },
  {
   "cell_type": "code",
   "execution_count": 152,
   "metadata": {},
   "outputs": [
    {
     "data": {
      "text/plain": [
       "'男'"
      ]
     },
     "execution_count": 152,
     "metadata": {},
     "output_type": "execute_result"
    }
   ],
   "source": [
    "driver.find_element_by_css_selector(\"div[class='message user other']>div>div[class='message-content']\").text"
   ]
  },
  {
   "cell_type": "code",
   "execution_count": 8,
   "metadata": {},
   "outputs": [],
   "source": [
    "driver.find_element_by_css_selector(\"button[class='message-content\").click()"
   ]
  },
  {
   "cell_type": "code",
   "execution_count": 127,
   "metadata": {},
   "outputs": [],
   "source": [
    "driver.find_element_by_css_selector(\"button[class='modal-default-button confirm']\").click()"
   ]
  },
  {
   "cell_type": "code",
   "execution_count": 113,
   "metadata": {},
   "outputs": [
    {
     "data": {
      "text/plain": [
       "True"
      ]
     },
     "execution_count": 113,
     "metadata": {},
     "output_type": "execute_result"
    }
   ],
   "source": [
    "driver.find_element_by_css_selector(\"div[class='message user other']>div>div[class='message-content small']\").is_displayed()\n",
    "#app > div > div.content > div:nth-child(4) > div > div > div"
   ]
  },
  {
   "cell_type": "code",
   "execution_count": 124,
   "metadata": {},
   "outputs": [],
   "source": [
    "driver.find_element_by_css_selector(\"div[class='bottom-tool-bar']>i[class='tool-button leave-chat']\").click()"
   ]
  },
  {
   "cell_type": "code",
   "execution_count": null,
   "metadata": {},
   "outputs": [],
   "source": [
    ">i[class='tool-button leave-chat']"
   ]
  },
  {
   "cell_type": "code",
   "execution_count": 29,
   "metadata": {},
   "outputs": [
    {
     "data": {
      "text/plain": [
       "'系統訊息：'"
      ]
     },
     "execution_count": 29,
     "metadata": {},
     "output_type": "execute_result"
    }
   ],
   "source": [
    "driver.find_element_by_css_selector(\"span.hidden_text\").text"
   ]
  },
  {
   "cell_type": "code",
   "execution_count": null,
   "metadata": {},
   "outputs": [],
   "source": [
    "/html/body/div[4]/div[3]/div[1]/blockquote/div[10]/text()[1]"
   ]
  },
  {
   "cell_type": "code",
   "execution_count": 34,
   "metadata": {},
   "outputs": [
    {
     "ename": "SyntaxError",
     "evalue": "invalid syntax (<ipython-input-34-cdb2e9b9b518>, line 1)",
     "output_type": "error",
     "traceback": [
      "\u001b[1;36m  File \u001b[1;32m\"<ipython-input-34-cdb2e9b9b518>\"\u001b[1;36m, line \u001b[1;32m1\u001b[0m\n\u001b[1;33m    driver.find_element_by_xpath(\"//*[@id=\"messages\"]/div[10]/text()\").text\u001b[0m\n\u001b[1;37m                                                  ^\u001b[0m\n\u001b[1;31mSyntaxError\u001b[0m\u001b[1;31m:\u001b[0m invalid syntax\n"
     ]
    }
   ],
   "source": [
    "driver.find_element_by_xpath(\"//*[@id=\"messages\"]/div[10]/text()\").text"
   ]
  },
  {
   "cell_type": "code",
   "execution_count": 50,
   "metadata": {},
   "outputs": [
    {
     "ename": "SyntaxError",
     "evalue": "invalid syntax (<ipython-input-50-4078d51d1ade>, line 2)",
     "output_type": "error",
     "traceback": [
      "\u001b[1;36m  File \u001b[1;32m\"<ipython-input-50-4078d51d1ade>\"\u001b[1;36m, line \u001b[1;32m2\u001b[0m\n\u001b[1;33m    if a=\"''\":\u001b[0m\n\u001b[1;37m        ^\u001b[0m\n\u001b[1;31mSyntaxError\u001b[0m\u001b[1;31m:\u001b[0m invalid syntax\n"
     ]
    }
   ],
   "source": [
    "a=driver.find_element_by_css_selector(\"span[class='hidden_text']+br\").text\n",
    "if a=\"''\":\n",
    "    print(\"ok\")"
   ]
  },
  {
   "cell_type": "code",
   "execution_count": 85,
   "metadata": {},
   "outputs": [
    {
     "data": {
      "text/plain": [
       "True"
      ]
     },
     "execution_count": 85,
     "metadata": {},
     "output_type": "execute_result"
    }
   ],
   "source": [
    "driver.find_element_by_partial_link_text('尋人').is_displayed()"
   ]
  },
  {
   "cell_type": "code",
   "execution_count": 72,
   "metadata": {},
   "outputs": [],
   "source": [
    "driver.find_element_by_css_selector(\"button.message-content\").click()"
   ]
  },
  {
   "cell_type": "code",
   "execution_count": null,
   "metadata": {},
   "outputs": [],
   "source": [
    "#app > div > div.content > div:nth-child(6) > div > button"
   ]
  },
  {
   "cell_type": "code",
   "execution_count": 38,
   "metadata": {},
   "outputs": [],
   "source": [
    "driver.find_element_by_class_name('message-content').click()"
   ]
  },
  {
   "cell_type": "code",
   "execution_count": 35,
   "metadata": {},
   "outputs": [],
   "source": [
    "driver.find_element_by_xpath('//*[@id=\"app\"]/div/div[1]/div[6]/div/button').click()"
   ]
  },
  {
   "cell_type": "code",
   "execution_count": 119,
   "metadata": {},
   "outputs": [
    {
     "ename": "SyntaxError",
     "evalue": "invalid syntax (<ipython-input-119-a5101fe86b7c>, line 1)",
     "output_type": "error",
     "traceback": [
      "\u001b[1;36m  File \u001b[1;32m\"<ipython-input-119-a5101fe86b7c>\"\u001b[1;36m, line \u001b[1;32m1\u001b[0m\n\u001b[1;33m    <i title=\"離開對話\" class=\"tool-button leave-chat\"></i>\u001b[0m\n\u001b[1;37m    ^\u001b[0m\n\u001b[1;31mSyntaxError\u001b[0m\u001b[1;31m:\u001b[0m invalid syntax\n"
     ]
    }
   ],
   "source": [
    "<i title=\"離開對話\" class=\"tool-button leave-chat\"></i>\n",
    "driver.find_element_by_class_name('tool-button leave-chat').is_displayed()"
   ]
  },
  {
   "cell_type": "code",
   "execution_count": 51,
   "metadata": {},
   "outputs": [
    {
     "data": {
      "text/plain": [
       "'系統訊息：對方離開了，請按離開按鈕回到首頁\\n\\n其他人在聊什麼?\\n我想看看尋人啟事'"
      ]
     },
     "execution_count": 51,
     "metadata": {},
     "output_type": "execute_result"
    }
   ],
   "source": [
    "driver.find_element_by_xpath('//*[@id=\"messages\"]/div[20]/a').text"
   ]
  },
  {
   "cell_type": "code",
   "execution_count": 53,
   "metadata": {},
   "outputs": [
    {
     "data": {
      "text/plain": [
       "'系統訊息：對方離開了，請按離開按鈕回到首頁\\n\\n來臉書按個讚\\n看看別人怎麼聊😂'"
      ]
     },
     "execution_count": 53,
     "metadata": {},
     "output_type": "execute_result"
    }
   ],
   "source": [
    "driver.find_element_by_xpath('//*[@id=\"messages\"]/div[10]').text"
   ]
  },
  {
   "cell_type": "code",
   "execution_count": 58,
   "metadata": {},
   "outputs": [],
   "source": [
    "c=driver.find_element_by_link_text('')"
   ]
  },
  {
   "cell_type": "code",
   "execution_count": 59,
   "metadata": {},
   "outputs": [],
   "source": [
    "c.send_keys('哈囉是喜歡腹肌的女孩嗎')"
   ]
  },
  {
   "cell_type": "code",
   "execution_count": 60,
   "metadata": {},
   "outputs": [],
   "source": [
    "from selenium.webdriver.common.keys import Keys\n",
    "c.send_keys(Keys.RETURN)"
   ]
  },
  {
   "cell_type": "code",
   "execution_count": null,
   "metadata": {},
   "outputs": [],
   "source": [
    "if "
   ]
  }
 ],
 "metadata": {
  "kernelspec": {
   "display_name": "Python 3",
   "language": "python",
   "name": "python3"
  },
  "language_info": {
   "codemirror_mode": {
    "name": "ipython",
    "version": 3
   },
   "file_extension": ".py",
   "mimetype": "text/x-python",
   "name": "python",
   "nbconvert_exporter": "python",
   "pygments_lexer": "ipython3",
   "version": "3.8.3"
  }
 },
 "nbformat": 4,
 "nbformat_minor": 2
}
